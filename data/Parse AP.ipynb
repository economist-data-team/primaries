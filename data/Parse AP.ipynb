{
 "cells": [
  {
   "cell_type": "code",
   "execution_count": 130,
   "metadata": {
    "collapsed": true
   },
   "outputs": [],
   "source": [
    "import requests\n",
    "import csvkit as csv"
   ]
  },
  {
   "cell_type": "code",
   "execution_count": 86,
   "metadata": {
    "collapsed": false
   },
   "outputs": [],
   "source": [
    "URL = 'https://interactives.ap.org/interactives/2016/delegate-tracker/live-data/data/delegates-delsuper.json'\n",
    "r = requests.get(URL)\n",
    "supers = r.json()['delSuper']['del']"
   ]
  },
  {
   "cell_type": "code",
   "execution_count": 88,
   "metadata": {
    "collapsed": false
   },
   "outputs": [],
   "source": [
    "for party in supers:\n",
    "    states = party['State']\n",
    "    for state in states:\n",
    "        candidates = state['Cand']\n",
    "        for cand in candidates:\n",
    "            cand['pTot'] = int(cand['dTot']) - int(cand['sdTot'])"
   ]
  },
  {
   "cell_type": "code",
   "execution_count": 96,
   "metadata": {
    "collapsed": false
   },
   "outputs": [],
   "source": [
    "dem, rep = [p['State'] for p in supers]"
   ]
  },
  {
   "cell_type": "code",
   "execution_count": 126,
   "metadata": {
    "collapsed": false
   },
   "outputs": [],
   "source": [
    "dem_dels = [dict([('state', s['sId']), ('party', 'DEM')] + [(c['cName'], c['pTot']) for c in s['Cand']]) for s in dem]\n",
    "rep_dels = [dict([('state', s['sId']), ('party', 'GOP')] + [(c['cName'], c['pTot']) for c in s['Cand']]) for s in rep]"
   ]
  },
  {
   "cell_type": "code",
   "execution_count": 128,
   "metadata": {
    "collapsed": false
   },
   "outputs": [],
   "source": [
    "dels = dem_dels + rep_dels"
   ]
  },
  {
   "cell_type": "code",
   "execution_count": 135,
   "metadata": {
    "collapsed": false
   },
   "outputs": [],
   "source": [
    "with open('delegates_ap.csv', 'w+') as f:\n",
    "    writer = csv.DictWriter(f, fieldnames=set(dem_dels[0].keys()).union(set(rep_dels[0].keys())))\n",
    "    writer.writeheader()\n",
    "    writer.writerows(dels)"
   ]
  },
  {
   "cell_type": "code",
   "execution_count": null,
   "metadata": {
    "collapsed": true
   },
   "outputs": [],
   "source": []
  }
 ],
 "metadata": {
  "kernelspec": {
   "display_name": "Python 3",
   "language": "python3",
   "name": "python3"
  },
  "language_info": {
   "codemirror_mode": {
    "name": "ipython",
    "version": 3
   },
   "file_extension": ".py",
   "mimetype": "text/x-python",
   "name": "python",
   "nbconvert_exporter": "python",
   "pygments_lexer": "ipython3",
   "version": "3.5.1"
  }
 },
 "nbformat": 4,
 "nbformat_minor": 0
}
